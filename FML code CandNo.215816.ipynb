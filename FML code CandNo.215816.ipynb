{
  "nbformat": 4,
  "nbformat_minor": 0,
  "metadata": {
    "colab": {
      "name": "FML assignment",
      "provenance": [],
      "toc_visible": true
    },
    "kernelspec": {
      "display_name": "Python 3",
      "name": "python3"
    },
    "language_info": {
      "name": "python"
    }
  },
  "cells": [
    {
      "cell_type": "markdown",
      "metadata": {
        "id": "y15-J714k-Ue"
      },
      "source": [
        "# Data loading & Useful packages"
      ]
    },
    {
      "cell_type": "code",
      "metadata": {
        "colab": {
          "base_uri": "https://localhost:8080/"
        },
        "id": "ESO9pUsFk7XX",
        "outputId": "4698b597-b61a-4ac5-c1e8-2334239fc3d6"
      },
      "source": [
        "import pandas as pd\n",
        "import numpy as np\n",
        "\n",
        "import matplotlib.pyplot as plt\n",
        "\n",
        "from sklearn.model_selection import KFold\n",
        "from sklearn.impute import KNNImputer\n",
        "from sklearn import metrics\n",
        "from sklearn.metrics import accuracy_score, hinge_loss, confusion_matrix  \n",
        "from sklearn.decomposition import PCA\n",
        "from sklearn.model_selection import train_test_split\n",
        "from sklearn import preprocessing\n",
        "from sklearn import svm\n",
        "from sklearn.feature_selection import f_classif\n",
        "from sklearn.model_selection import validation_curve\n",
        "\n",
        "\n",
        "\n",
        "from google.colab import drive\n",
        "drive.mount('/content/gdrive')\n",
        "DRIVE_BASE = '/content/gdrive/My Drive'\n",
        "\n",
        "\n",
        "training1=pd.read_csv(\"/content/gdrive/My Drive/data/training1.csv\")\n",
        "training2=pd.read_csv(\"/content/gdrive/My Drive/data/training2.csv\")\n",
        "test=pd.read_csv(\"/content/gdrive/My Drive/data/test.csv\")\n",
        "sample_valid_predictions=pd.read_csv(\"/content/gdrive/My Drive/data/sample_valid_predictions.csv\")"
      ],
      "execution_count": 1,
      "outputs": [
        {
          "output_type": "stream",
          "text": [
            "Drive already mounted at /content/gdrive; to attempt to forcibly remount, call drive.mount(\"/content/gdrive\", force_remount=True).\n"
          ],
          "name": "stdout"
        }
      ]
    },
    {
      "cell_type": "code",
      "metadata": {
        "id": "qurqq2RznfGO"
      },
      "source": [
        "#Convert from dataframe to numpy\n",
        "training1_data = training1.values\n",
        "\n",
        "training2_data = training2.values\n",
        "testing_data = test.values\n",
        "predictions = sample_valid_predictions.values\n",
        "\n",
        "confidence = np.concatenate([training1_data[:,-1],training2_data[:,-1]]) #Get confidence labels\n",
        "classes = np.concatenate([training1_data[:,-2],training2_data[:,-2]])  #Get Ground Truth labels\n",
        "\n",
        "training1_data = training1_data[:,:-2]  #Remove confidence and ground truth labels\n",
        "training2_data = training2_data[:,:-2]"
      ],
      "execution_count": 2,
      "outputs": []
    },
    {
      "cell_type": "markdown",
      "metadata": {
        "id": "2MugJD_0o3mA"
      },
      "source": [
        "# Fill in missing data"
      ]
    },
    {
      "cell_type": "code",
      "metadata": {
        "id": "W2YQhk70CujO"
      },
      "source": [
        "def delete_missing_data(training_data,threshold=0.22):\n",
        "  percent_missing = []  #Get the percentage of data missing for each feature\n",
        "\n",
        "  for i in range(training_data[0].shape[0]):\n",
        "    empty = 0\n",
        "    for j in range(training_data[:,0].shape[0]):\n",
        "      if np.isnan(training_data[j,i]):  #Find if box contains empty variable\n",
        "        empty+=1  #Increase if found empty box in column\n",
        "    percent_missing.append(empty/(training_data[:,0].shape[0])) #Calculate percentage\n",
        "\n",
        "  indexes = []\n",
        "  for perc in range(len(percent_missing)):\n",
        "    if percent_missing[perc]>threshold:\n",
        "      indexes.append(perc)  #Include indexes of data to be removed\n",
        "\n",
        "  return indexes"
      ],
      "execution_count": 3,
      "outputs": []
    },
    {
      "cell_type": "code",
      "metadata": {
        "id": "SWAeVk4TIV2t"
      },
      "source": [
        "indexes_to_remove = delete_missing_data(training2_data,threshold=0.20)  #Take the indexes where the is high missing training data\n",
        "\n",
        "training2_data[np.isnan(training2_data)] = np.nan #Convert all Nan values to np.nan in order for the KNNImputer to work\n",
        "imputer = KNNImputer(n_neighbors=10) #Create nearest neighbours from sklearn\n",
        "training2_data = imputer.fit_transform(training2_data) #Use sklearn nearest neighbours to acquire most common values within nearest neighbours\n",
        "\n",
        "all_training_nothing_removed = np.concatenate([training1_data,training2_data]) #Concatenate both training data sets without removing any features\n",
        "\n",
        "training2_data = training2_data[:,indexes_to_remove]  #Remove features from training 1 and training 2 data\n",
        "training1_data = training1_data[:,indexes_to_remove]\n",
        "\n",
        "all_training = np.concatenate([training1_data,training2_data])  #Concatenate both training data sets with removed features"
      ],
      "execution_count": 4,
      "outputs": []
    },
    {
      "cell_type": "markdown",
      "metadata": {
        "id": "R16Mj5bIssQO"
      },
      "source": [
        "# Pre processing "
      ]
    },
    {
      "cell_type": "code",
      "metadata": {
        "id": "W8ZTDob6bbx5"
      },
      "source": [
        "##Standardization and variance scaling\n",
        "def rescale(training_data):\n",
        "  training_data = preprocessing.StandardScaler().fit_transform(training_data) #Rescale data to have 0 mean and unit-variance\n",
        "  return training_data"
      ],
      "execution_count": 5,
      "outputs": []
    },
    {
      "cell_type": "code",
      "metadata": {
        "id": "QxCcmntbY1F9"
      },
      "source": [
        "##Data normalisation\n",
        "def normalise(training_data):\n",
        "  training_data = preprocessing.normalize(training_data, norm='l2') #Normalise data to have Gaussian distribution\n",
        "  return training_data"
      ],
      "execution_count": 6,
      "outputs": []
    },
    {
      "cell_type": "code",
      "metadata": {
        "id": "RTBGBQyouWON"
      },
      "source": [
        "##Principle Component Analysis\n",
        "def princCompAna(n_components,training_data):\n",
        "  pca = PCA(n_components) #Get the number of components\n",
        "  training_data = pca.fit_transform(training_data)  #Transform the dimensionality of the data given the number of components\n",
        "  return training_data"
      ],
      "execution_count": 7,
      "outputs": []
    },
    {
      "cell_type": "markdown",
      "metadata": {
        "id": "xBoDFcCZRVaQ"
      },
      "source": [
        "# Model selection"
      ]
    },
    {
      "cell_type": "code",
      "metadata": {
        "colab": {
          "base_uri": "https://localhost:8080/"
        },
        "id": "NPDTz_e6NumR",
        "outputId": "4efe204a-7792-46d0-d00f-8d204d627636"
      },
      "source": [
        "svm.SVC() #Observe the hyperparameters for the classifier Support Vector Machine"
      ],
      "execution_count": 8,
      "outputs": [
        {
          "output_type": "execute_result",
          "data": {
            "text/plain": [
              "SVC(C=1.0, break_ties=False, cache_size=200, class_weight=None, coef0=0.0,\n",
              "    decision_function_shape='ovr', degree=3, gamma='scale', kernel='rbf',\n",
              "    max_iter=-1, probability=False, random_state=None, shrinking=True,\n",
              "    tol=0.001, verbose=False)"
            ]
          },
          "metadata": {
            "tags": []
          },
          "execution_count": 8
        }
      ]
    },
    {
      "cell_type": "code",
      "metadata": {
        "id": "VHjx40YfVkJx"
      },
      "source": [
        "#Calcualte accuracy by dividing the amount of correct predictions by all ground truth labels\n",
        "def calculate_acc(clf,X_test,y_test):\n",
        "  predicted = clf.predict(X_test) #Predict labels\n",
        "  correct = 0 #Counter for correctly predicted labels\n",
        "  i = 0 #Indexes\n",
        "  for prediction in predicted:  \n",
        "    if prediction == y_test[i]: #If prediction is correct\n",
        "      correct+=1  #Add to counter\n",
        "    i+=1\n",
        "  return correct/len(y_test)"
      ],
      "execution_count": 9,
      "outputs": []
    },
    {
      "cell_type": "code",
      "metadata": {
        "colab": {
          "base_uri": "https://localhost:8080/",
          "height": 396
        },
        "id": "ou8ZtGmNRYVH",
        "outputId": "73084659-8a8d-464f-c17d-5e050060cd48"
      },
      "source": [
        "svm_best_hyper = [svm.SVC(),svm.SVC(C=1.5),svm.SVC(C=2),svm.SVC(kernel='linear'),svm.SVC(kernel='poly'),svm.SVC(kernel='sigmoid'),\n",
        "                  svm.SVC(kernel='poly',coef0=1.0),svm.SVC(kernel='poly',coef0=2.0),svm.SVC(kernel='poly',coef0=1.0,C=1.5),svm.SVC(kernel='sigmoid',coef0=2.0,C=2)] #List of Support Vector machines with different hyperparameters\n",
        "\n",
        "\n",
        "rescaled_training = rescale(all_training) # Resclale all training data\n",
        "normalise_training = normalise(rescaled_training) #Normalise the resclaed training data\n",
        "transformed_training = princCompAna(0.95,normalise_training)  #Transform the trainig data using PCA\n",
        "\n",
        "kf = KFold(n_splits=10) #Use k fold from sklearn for validation testing\n",
        "kf.get_n_splits(transformed_training)\n",
        "\n",
        "i = 0 #index of SVM in list\n",
        "performance = [] #Store the accuracy of each model in the list\n",
        "for train_index, test_index in kf.split(transformed_training):  #Do K-fold validation\n",
        "  X_train, X_test = transformed_training[train_index], transformed_training[test_index]\n",
        "  y_train, y_test = classes[train_index], classes[test_index]\n",
        "\n",
        "  svm_best_hyper[i].fit(X_train,y_train,confidence[train_index])  #Pick the confidence labels according to the training labels we have\n",
        "  performance.append(calculate_acc(svm_best_hyper[i],X_test,y_test))  #Calculate accuracy for each model\n",
        "  i+=1\n",
        "\n",
        "objects = ['Default', 'Reg 1.5', 'Reg 2.0', 'Linear', 'Poly','Sigmoid','Poly coef 1.0','Poly coef 2.0','Poly coef 1.0 Reg 1.0','Sigmoid coef 2.0 Reg 2.0']  #Plot bar\n",
        "y_pos = np.arange(len(objects))\n",
        "plt.bar(objects, performance, align='center', alpha=0.5)\n",
        "plt.xticks(y_pos, objects,rotation=90)\n",
        "plt.ylabel('Accuracy')\n",
        "plt.title('SVM hyperparameters')\n",
        "\n",
        "plt.show()"
      ],
      "execution_count": 10,
      "outputs": [
        {
          "output_type": "display_data",
          "data": {
            "image/png": "[encoded data removed]",
            "text/plain": [
              "<Figure size 432x288 with 1 Axes>"
            ]
          },
          "metadata": {
            "tags": [],
            "needs_background": "light"
          }
        }
      ]
    },
    {
      "cell_type": "markdown",
      "metadata": {
        "id": "_2D1gjGK5kdW"
      },
      "source": [
        "# Submission for testing data"
      ]
    },
    {
      "cell_type": "code",
      "metadata": {
        "id": "nmrdlhXaxk06"
      },
      "source": [
        "#Preprocess the training data\n",
        "rescaled = rescale(all_training)\n",
        "normalised = normalise(rescaled)\n",
        "pca_data = princCompAna(0.95,normalised)"
      ],
      "execution_count": 11,
      "outputs": []
    },
    {
      "cell_type": "code",
      "metadata": {
        "id": "VUY2AkX1S1QL"
      },
      "source": [
        "testing_data = testing_data[:,indexes_to_remove]  #Do feature selection of testing data\n",
        "testing_data[np.isnan(testing_data)] = np.nan #Convert all Nan values to np.nan in order for the KNNImputer to work\n",
        "imputer = KNNImputer(n_neighbors=10) #Create nearest neighbours from sklearn\n",
        "testing_data = imputer.fit_transform(testing_data) #Use sklearn nearest neighbours to acquire most common values within nearest neighbours\n",
        "\n",
        "testing_data = rescale(testing_data)  #Pre process testing data\n",
        "testing_data = normalise(testing_data)\n",
        "testing_data = princCompAna(1050,testing_data)\n",
        "\n",
        "final_classifier = svm.SVC()  #Fit the classifier with the training data and make the prediction for the testing data\n",
        "final_classifier.fit(pca_data,classes,confidence)\n",
        "submission = final_classifier.predict(testing_data)"
      ],
      "execution_count": 12,
      "outputs": []
    },
    {
      "cell_type": "code",
      "metadata": {
        "id": "B3pR3w3kwLDc"
      },
      "source": [
        "sub = np.asarray(submission)\n",
        "np.savetxt(\"/content/gdrive/My Drive\" + '/predictions.csv', sub)"
      ],
      "execution_count": 13,
      "outputs": []
    },
    {
      "cell_type": "markdown",
      "metadata": {
        "id": "Q1Rah3cW5hCu"
      },
      "source": [
        "# Plots for results"
      ]
    },
    {
      "cell_type": "code",
      "metadata": {
        "colab": {
          "base_uri": "https://localhost:8080/",
          "height": 301
        },
        "id": "lWY4Py4BdZVa",
        "outputId": "e39cfe5d-ab1d-4a67-c663-995b547e70e9"
      },
      "source": [
        "rescaled = rescale(all_training)  #Pre process the data\n",
        "normalised = normalise(rescaled)\n",
        "transformed = princCompAna(0.95,normalised)\n",
        "\n",
        "kf = KFold(n_splits=10) #Perform k-fold cross validation\n",
        "kf.get_n_splits(transformed)\n",
        "\n",
        "param_range = np.logspace(-4, 4, 5) #Use code from sklearn see https://scikit-learn.org/stable/auto_examples/model_selection/plot_validation_curve.html#sphx-glr-auto-examples-model-selection-plot-validation-curve-py\n",
        "train_scores, valid_scores = validation_curve(\n",
        "    svm.SVC(), transformed, classes, param_name=\"gamma\", param_range=param_range,\n",
        "    scoring=\"accuracy\", n_jobs=1) #Calculate training/validation scores for the training data\n",
        "train_scores_mean = np.mean(train_scores, axis=1) #Training scores mean\n",
        "train_scores_std = np.std(train_scores, axis=1) #Training scores standard deviation\n",
        "valid_scores_mean = np.mean(valid_scores, axis=1) #Validation scores mean\n",
        "valid_scores_std = np.std(valid_scores, axis=1) #Validation scores standard deviation\n",
        "\n",
        "plt.title(\"Validation Curve with SVM kernel: rbf\")  #Create plot\n",
        "plt.xlabel(r\"$\\gamma$\")\n",
        "plt.ylabel(\"Accuracy\")\n",
        "plt.ylim(0.0, 1.1)\n",
        "lw = 2\n",
        "plt.semilogx(param_range, train_scores_mean, label=\"Training score\",\n",
        "             color=\"darkorange\", lw=lw)\n",
        "plt.fill_between(param_range, train_scores_mean - train_scores_std,\n",
        "                 train_scores_mean + train_scores_std, alpha=0.2,\n",
        "                 color=\"darkorange\", lw=lw)\n",
        "plt.semilogx(param_range, valid_scores_mean, label=\"Cross-validation score\",\n",
        "             color=\"navy\", lw=lw)\n",
        "plt.fill_between(param_range, valid_scores_mean - valid_scores_std,\n",
        "                 valid_scores_mean + valid_scores_std, alpha=0.2,\n",
        "                 color=\"navy\", lw=lw)\n",
        "plt.legend(loc=\"best\")\n",
        "plt.show()"
      ],
      "execution_count": 14,
      "outputs": [
        {
          "output_type": "display_data",
          "data": {
            "image/png": "[encoded data removed]",
            "text/plain": [
              "<Figure size 432x288 with 1 Axes>"
            ]
          },
          "metadata": {
            "tags": [],
            "needs_background": "light"
          }
        }
      ]
    },
    {
      "cell_type": "code",
      "metadata": {
        "colab": {
          "base_uri": "https://localhost:8080/",
          "height": 298
        },
        "id": "IiIynh82Ge_E",
        "outputId": "a4134aa2-7fc3-4b6d-80fc-a01d08767fa6"
      },
      "source": [
        "all = svm.SVC() #Create 2 support vector machines\n",
        "not_all = svm.SVC()\n",
        "\n",
        "performance =[] #Create array to store performance\n",
        "\n",
        "X_train_all, X_test_all, y_train_all, y_test_all = train_test_split(all_training, classes, test_size=0.33, random_state=42) #Train test split on training data with removed features\n",
        "all.fit(X_train_all,y_train_all)  #Fit model\n",
        "performance.append(calculate_acc(all,X_test_all,y_test_all))  #Calcualte model accuracy\n",
        "\n",
        "X_train_not, X_test_not, y_train_not, y_test_not = train_test_split(all_training_nothing_removed, classes, test_size=0.33, random_state=42) #Train test split on training data without removed features\n",
        "not_all.fit(X_train_not,y_train_not) #Fit model\n",
        "performance.append(calculate_acc(not_all,X_test_not,y_test_not)) #Calcualte model accuracy\n",
        "\n",
        "objects = ['All features', 'Reduced features']  #Plot the results\n",
        "y_pos = np.arange(len(objects))\n",
        "plt.bar(objects, performance, align='center', alpha=0.5)\n",
        "plt.xticks(y_pos, objects)\n",
        "plt.ylabel('Accuracy')\n",
        "plt.title('Amount of features')\n"
      ],
      "execution_count": 15,
      "outputs": [
        {
          "output_type": "execute_result",
          "data": {
            "text/plain": [
              "Text(0.5, 1.0, 'Amount of features')"
            ]
          },
          "metadata": {
            "tags": []
          },
          "execution_count": 15
        },
        {
          "output_type": "display_data",
          "data": {
            "image/png": "[encoded data removed]",
            "text/plain": [
              "<Figure size 432x288 with 1 Axes>"
            ]
          },
          "metadata": {
            "tags": [],
            "needs_background": "light"
          }
        }
      ]
    },
    {
      "cell_type": "code",
      "metadata": {
        "colab": {
          "base_uri": "https://localhost:8080/",
          "height": 296
        },
        "id": "Psu5HyYt5bxX",
        "outputId": "54639431-7ee6-4d43-9352-78bb81c40396"
      },
      "source": [
        "rescaled = rescale(all_training)  #Pre process the data\n",
        "normalised = normalise(rescaled)\n",
        "transformed = princCompAna(0.95,normalised)\n",
        "\n",
        "X_train_indexes, X_test_indexes, y_train_indexes, y_test_indexes = train_test_split(range(0,transformed.shape[0]), range(0,transformed.shape[0]), test_size=0.33, random_state=42) #Train test split to calculate model performance\n",
        "\n",
        "\n",
        "clf = svm.SVC() #Create support vector machine\n",
        "clf.fit(transformed[X_train_indexes], classes[y_train_indexes],confidence[X_train_indexes]) #Support Vector Machine prediction\n",
        "metrics.plot_confusion_matrix(clf, transformed[X_test_indexes], classes[y_test_indexes], display_labels=['Sunny','Not Sunny'],values_format='d') #Plot confusion matrix\n"
      ],
      "execution_count": 16,
      "outputs": [
        {
          "output_type": "execute_result",
          "data": {
            "text/plain": [
              "<sklearn.metrics._plot.confusion_matrix.ConfusionMatrixDisplay at 0x7f6dc44375d0>"
            ]
          },
          "metadata": {
            "tags": []
          },
          "execution_count": 16
        },
        {
          "output_type": "display_data",
          "data": {
            "image/png": "[encoded data removed]",
            "text/plain": [
              "<Figure size 432x288 with 2 Axes>"
            ]
          },
          "metadata": {
            "tags": [],
            "needs_background": "light"
          }
        }
      ]
    }
  ]
}